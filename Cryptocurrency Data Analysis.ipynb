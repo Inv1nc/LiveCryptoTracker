{
 "cells": [
  {
   "cell_type": "markdown",
   "id": "7e88ef76-9439-4c5b-a31f-8bbd9a938480",
   "metadata": {},
   "source": [
    "## Analysis of  Top 50 Live Cryptocurrency Data"
   ]
  },
  {
   "cell_type": "code",
   "execution_count": 1,
   "id": "cf578f04-10d8-49eb-85d9-d706cd4cbce3",
   "metadata": {},
   "outputs": [
    {
     "data": {
      "text/html": [
       "<div>\n",
       "<style scoped>\n",
       "    .dataframe tbody tr th:only-of-type {\n",
       "        vertical-align: middle;\n",
       "    }\n",
       "\n",
       "    .dataframe tbody tr th {\n",
       "        vertical-align: top;\n",
       "    }\n",
       "\n",
       "    .dataframe thead th {\n",
       "        text-align: right;\n",
       "    }\n",
       "</style>\n",
       "<table border=\"1\" class=\"dataframe\">\n",
       "  <thead>\n",
       "    <tr style=\"text-align: right;\">\n",
       "      <th></th>\n",
       "      <th>Name</th>\n",
       "      <th>Symbol</th>\n",
       "      <th>Current Price (USD)</th>\n",
       "      <th>Market Cap (USD)</th>\n",
       "      <th>24-hour Volume (USD)</th>\n",
       "      <th>Price Change (24h, USD)</th>\n",
       "      <th>Price Change (24h, %)</th>\n",
       "      <th>Circulating Supply</th>\n",
       "      <th>All-Time High (USD)</th>\n",
       "      <th>ATH Change %</th>\n",
       "      <th>All-Time Low (USD)</th>\n",
       "      <th>ATL Change %</th>\n",
       "    </tr>\n",
       "  </thead>\n",
       "  <tbody>\n",
       "    <tr>\n",
       "      <th>0</th>\n",
       "      <td>Bitcoin</td>\n",
       "      <td>btc</td>\n",
       "      <td>66064.00</td>\n",
       "      <td>1305286805276</td>\n",
       "      <td>30226750920</td>\n",
       "      <td>738.720000</td>\n",
       "      <td>1.13083</td>\n",
       "      <td>1.975990e+07</td>\n",
       "      <td>73738.00</td>\n",
       "      <td>-10.38502</td>\n",
       "      <td>67.810000</td>\n",
       "      <td>9.735055e+04</td>\n",
       "    </tr>\n",
       "    <tr>\n",
       "      <th>1</th>\n",
       "      <td>Ethereum</td>\n",
       "      <td>eth</td>\n",
       "      <td>2698.06</td>\n",
       "      <td>324652587619</td>\n",
       "      <td>16124632062</td>\n",
       "      <td>51.370000</td>\n",
       "      <td>1.94110</td>\n",
       "      <td>1.203643e+08</td>\n",
       "      <td>4878.26</td>\n",
       "      <td>-44.72735</td>\n",
       "      <td>0.432979</td>\n",
       "      <td>6.226426e+05</td>\n",
       "    </tr>\n",
       "    <tr>\n",
       "      <th>2</th>\n",
       "      <td>Tether</td>\n",
       "      <td>usdt</td>\n",
       "      <td>1.00</td>\n",
       "      <td>119409203186</td>\n",
       "      <td>53327784229</td>\n",
       "      <td>0.000308</td>\n",
       "      <td>0.03078</td>\n",
       "      <td>1.194128e+11</td>\n",
       "      <td>1.32</td>\n",
       "      <td>-24.37132</td>\n",
       "      <td>0.572521</td>\n",
       "      <td>7.477778e+01</td>\n",
       "    </tr>\n",
       "    <tr>\n",
       "      <th>3</th>\n",
       "      <td>BNB</td>\n",
       "      <td>bnb</td>\n",
       "      <td>612.15</td>\n",
       "      <td>89304932024</td>\n",
       "      <td>1390300252</td>\n",
       "      <td>8.310000</td>\n",
       "      <td>1.37601</td>\n",
       "      <td>1.458876e+08</td>\n",
       "      <td>717.48</td>\n",
       "      <td>-14.64765</td>\n",
       "      <td>0.039818</td>\n",
       "      <td>1.537865e+06</td>\n",
       "    </tr>\n",
       "    <tr>\n",
       "      <th>4</th>\n",
       "      <td>Solana</td>\n",
       "      <td>sol</td>\n",
       "      <td>158.58</td>\n",
       "      <td>74310500625</td>\n",
       "      <td>3284981113</td>\n",
       "      <td>2.340000</td>\n",
       "      <td>1.50071</td>\n",
       "      <td>4.688264e+08</td>\n",
       "      <td>259.96</td>\n",
       "      <td>-39.00703</td>\n",
       "      <td>0.500801</td>\n",
       "      <td>3.156064e+04</td>\n",
       "    </tr>\n",
       "  </tbody>\n",
       "</table>\n",
       "</div>"
      ],
      "text/plain": [
       "       Name Symbol  Current Price (USD)  Market Cap (USD)  \\\n",
       "0   Bitcoin    btc             66064.00     1305286805276   \n",
       "1  Ethereum    eth              2698.06      324652587619   \n",
       "2    Tether   usdt                 1.00      119409203186   \n",
       "3       BNB    bnb               612.15       89304932024   \n",
       "4    Solana    sol               158.58       74310500625   \n",
       "\n",
       "   24-hour Volume (USD)  Price Change (24h, USD)  Price Change (24h, %)  \\\n",
       "0           30226750920               738.720000                1.13083   \n",
       "1           16124632062                51.370000                1.94110   \n",
       "2           53327784229                 0.000308                0.03078   \n",
       "3            1390300252                 8.310000                1.37601   \n",
       "4            3284981113                 2.340000                1.50071   \n",
       "\n",
       "   Circulating Supply  All-Time High (USD)  ATH Change %  All-Time Low (USD)  \\\n",
       "0        1.975990e+07             73738.00     -10.38502           67.810000   \n",
       "1        1.203643e+08              4878.26     -44.72735            0.432979   \n",
       "2        1.194128e+11                 1.32     -24.37132            0.572521   \n",
       "3        1.458876e+08               717.48     -14.64765            0.039818   \n",
       "4        4.688264e+08               259.96     -39.00703            0.500801   \n",
       "\n",
       "   ATL Change %  \n",
       "0  9.735055e+04  \n",
       "1  6.226426e+05  \n",
       "2  7.477778e+01  \n",
       "3  1.537865e+06  \n",
       "4  3.156064e+04  "
      ]
     },
     "execution_count": 1,
     "metadata": {},
     "output_type": "execute_result"
    }
   ],
   "source": [
    "import pandas as pd\n",
    "import matplotlib.pyplot as plt\n",
    "import seaborn as sns\n",
    "\n",
    "file_path = \"output.xlsx\"\n",
    "df = pd.read_excel(file_path)\n",
    "\n",
    "# Display the first few rows of the loaded data\n",
    "\n",
    "df.head()"
   ]
  },
  {
   "cell_type": "code",
   "execution_count": 2,
   "id": "05deaccf-84df-4331-9da0-3683e8acbb85",
   "metadata": {},
   "outputs": [
    {
     "name": "stdout",
     "output_type": "stream",
     "text": [
      "Top 5 Cryptocurrencies by Market Capitalization\n"
     ]
    },
    {
     "data": {
      "text/html": [
       "<div>\n",
       "<style scoped>\n",
       "    .dataframe tbody tr th:only-of-type {\n",
       "        vertical-align: middle;\n",
       "    }\n",
       "\n",
       "    .dataframe tbody tr th {\n",
       "        vertical-align: top;\n",
       "    }\n",
       "\n",
       "    .dataframe thead th {\n",
       "        text-align: right;\n",
       "    }\n",
       "</style>\n",
       "<table border=\"1\" class=\"dataframe\">\n",
       "  <thead>\n",
       "    <tr style=\"text-align: right;\">\n",
       "      <th></th>\n",
       "      <th>Name</th>\n",
       "      <th>Market Cap (USD)</th>\n",
       "    </tr>\n",
       "  </thead>\n",
       "  <tbody>\n",
       "    <tr>\n",
       "      <th>0</th>\n",
       "      <td>Bitcoin</td>\n",
       "      <td>1305286805276</td>\n",
       "    </tr>\n",
       "    <tr>\n",
       "      <th>1</th>\n",
       "      <td>Ethereum</td>\n",
       "      <td>324652587619</td>\n",
       "    </tr>\n",
       "    <tr>\n",
       "      <th>2</th>\n",
       "      <td>Tether</td>\n",
       "      <td>119409203186</td>\n",
       "    </tr>\n",
       "    <tr>\n",
       "      <th>3</th>\n",
       "      <td>BNB</td>\n",
       "      <td>89304932024</td>\n",
       "    </tr>\n",
       "    <tr>\n",
       "      <th>4</th>\n",
       "      <td>Solana</td>\n",
       "      <td>74310500625</td>\n",
       "    </tr>\n",
       "  </tbody>\n",
       "</table>\n",
       "</div>"
      ],
      "text/plain": [
       "       Name  Market Cap (USD)\n",
       "0   Bitcoin     1305286805276\n",
       "1  Ethereum      324652587619\n",
       "2    Tether      119409203186\n",
       "3       BNB       89304932024\n",
       "4    Solana       74310500625"
      ]
     },
     "execution_count": 2,
     "metadata": {},
     "output_type": "execute_result"
    }
   ],
   "source": [
    "print(\"Top 5 Cryptocurrencies by Market Capitalization\")\n",
    "top_5_market_cap = df.nlargest(5, 'Market Cap (USD)')[['Name', 'Market Cap (USD)']]  \n",
    "top_5_market_cap"
   ]
  },
  {
   "cell_type": "code",
   "execution_count": 3,
   "id": "41c0ff24-0ad5-4b5a-83bd-34b3051158c5",
   "metadata": {},
   "outputs": [
    {
     "name": "stdout",
     "output_type": "stream",
     "text": [
      "Average Price of the Top 50 Cryptocurrencies (in USD)\n"
     ]
    },
    {
     "data": {
      "text/plain": [
       "2968.7748014478"
      ]
     },
     "execution_count": 3,
     "metadata": {},
     "output_type": "execute_result"
    }
   ],
   "source": [
    "print(\"Average Price of the Top 50 Cryptocurrencies (in USD)\")\n",
    "float(df['Current Price (USD)'].mean())"
   ]
  },
  {
   "cell_type": "code",
   "execution_count": 4,
   "id": "e1fb029d-c5b8-4069-b255-0b2390a25d6c",
   "metadata": {},
   "outputs": [
    {
     "name": "stdout",
     "output_type": "stream",
     "text": [
      "Cryptocurrency with the Highest 24-Hour Percentage Price Change\n"
     ]
    },
    {
     "data": {
      "text/plain": [
       "Name                                    Pepe\n",
       "Symbol                                  pepe\n",
       "Current Price (USD)                 0.000011\n",
       "Market Cap (USD)                  4798312909\n",
       "24-hour Volume (USD)              2797883079\n",
       "Price Change (24h, USD)             0.000002\n",
       "Price Change (24h, %)               17.69805\n",
       "Circulating Supply         420690000000000.0\n",
       "All-Time High (USD)                 0.000017\n",
       "ATH Change %                        -33.3578\n",
       "All-Time Low (USD)                       0.0\n",
       "ATL Change %                     20646.12859\n",
       "Name: 25, dtype: object"
      ]
     },
     "execution_count": 4,
     "metadata": {},
     "output_type": "execute_result"
    }
   ],
   "source": [
    "print(\"Cryptocurrency with the Highest 24-Hour Percentage Price Change\")\n",
    "df.loc[df['Price Change (24h, %)'].idxmax()]"
   ]
  },
  {
   "cell_type": "code",
   "execution_count": 5,
   "id": "065616ed-bc31-44d3-9976-cc19b59e8610",
   "metadata": {},
   "outputs": [
    {
     "name": "stdout",
     "output_type": "stream",
     "text": [
      "Cryptocurrency with the Lowest 24-Hour Percentage Price Change\n"
     ]
    },
    {
     "data": {
      "text/plain": [
       "Name                                    Sui\n",
       "Symbol                                  sui\n",
       "Current Price (USD)                    1.64\n",
       "Market Cap (USD)                 4393259920\n",
       "24-hour Volume (USD)              602285065\n",
       "Price Change (24h, USD)           -0.053831\n",
       "Price Change (24h, %)              -3.17883\n",
       "Circulating Supply         2679963749.63389\n",
       "All-Time High (USD)                    2.17\n",
       "ATH Change %                      -24.33054\n",
       "All-Time Low (USD)                 0.364846\n",
       "ATL Change %                      350.28114\n",
       "Name: 28, dtype: object"
      ]
     },
     "execution_count": 5,
     "metadata": {},
     "output_type": "execute_result"
    }
   ],
   "source": [
    "print(\"Cryptocurrency with the Lowest 24-Hour Percentage Price Change\")\n",
    "df.loc[df['Price Change (24h, %)'].idxmin()]"
   ]
  },
  {
   "cell_type": "code",
   "execution_count": 6,
   "id": "bf1bf848-dcff-4344-a8b9-07520ce85407",
   "metadata": {},
   "outputs": [
    {
     "name": "stdout",
     "output_type": "stream",
     "text": [
      "Cryptocurrency with the Highest Market Capitalization\n"
     ]
    },
    {
     "data": {
      "text/plain": [
       "Name                             Bitcoin\n",
       "Symbol                               btc\n",
       "Current Price (USD)              66064.0\n",
       "Market Cap (USD)           1305286805276\n",
       "24-hour Volume (USD)         30226750920\n",
       "Price Change (24h, USD)           738.72\n",
       "Price Change (24h, %)            1.13083\n",
       "Circulating Supply            19759896.0\n",
       "All-Time High (USD)              73738.0\n",
       "ATH Change %                   -10.38502\n",
       "All-Time Low (USD)                 67.81\n",
       "ATL Change %                 97350.54593\n",
       "Name: 0, dtype: object"
      ]
     },
     "execution_count": 6,
     "metadata": {},
     "output_type": "execute_result"
    }
   ],
   "source": [
    "print(\"Cryptocurrency with the Highest Market Capitalization\")\n",
    "df.loc[df['Market Cap (USD)'].idxmax()]"
   ]
  },
  {
   "cell_type": "code",
   "execution_count": 7,
   "id": "383f19af-2407-4074-abdc-67eca284aa2f",
   "metadata": {},
   "outputs": [
    {
     "name": "stdout",
     "output_type": "stream",
     "text": [
      "Cryptocurrency with the Lowest Market Capitalization\n"
     ]
    },
    {
     "data": {
      "text/plain": [
       "Name                         Injective\n",
       "Symbol                             inj\n",
       "Current Price (USD)              23.84\n",
       "Market Cap (USD)            2330272647\n",
       "24-hour Volume (USD)         146008767\n",
       "Price Change (24h, USD)       0.496121\n",
       "Price Change (24h, %)          2.12495\n",
       "Circulating Supply         97727222.33\n",
       "All-Time High (USD)              52.62\n",
       "ATH Change %                  -54.6336\n",
       "All-Time Low (USD)            0.657401\n",
       "ATL Change %                 3531.2857\n",
       "Name: 49, dtype: object"
      ]
     },
     "execution_count": 7,
     "metadata": {},
     "output_type": "execute_result"
    }
   ],
   "source": [
    "print(\"Cryptocurrency with the Lowest Market Capitalization\")\n",
    "df.loc[df['Market Cap (USD)'].idxmin()]"
   ]
  },
  {
   "cell_type": "code",
   "execution_count": 8,
   "id": "91605062-f493-4943-b677-0c602cc5eef0",
   "metadata": {},
   "outputs": [
    {
     "name": "stdout",
     "output_type": "stream",
     "text": [
      "Total Market Capitalization of the Top 50 Cryptocurrencies (in USD)\n"
     ]
    },
    {
     "data": {
      "text/plain": [
       "2255484412927"
      ]
     },
     "execution_count": 8,
     "metadata": {},
     "output_type": "execute_result"
    }
   ],
   "source": [
    "print(\"Total Market Capitalization of the Top 50 Cryptocurrencies (in USD)\")\n",
    "int(df['Market Cap (USD)'].sum())"
   ]
  },
  {
   "cell_type": "code",
   "execution_count": 9,
   "id": "e6ce88a9-7673-481a-9034-6a9be5ac26ee",
   "metadata": {},
   "outputs": [
    {
     "name": "stdout",
     "output_type": "stream",
     "text": [
      "Average 24-Hour Trading Volume of Top 50 Cryptocurrencies (in USD)\n"
     ]
    },
    {
     "data": {
      "text/plain": [
       "2617294098.82"
      ]
     },
     "execution_count": 9,
     "metadata": {},
     "output_type": "execute_result"
    }
   ],
   "source": [
    "print(\"Average 24-Hour Trading Volume of Top 50 Cryptocurrencies (in USD)\")\n",
    "float(df['24-hour Volume (USD)'].mean())"
   ]
  },
  {
   "cell_type": "code",
   "execution_count": 10,
   "id": "7f9b58ff-86c4-40be-9642-f59e8378c1da",
   "metadata": {},
   "outputs": [
    {
     "name": "stdout",
     "output_type": "stream",
     "text": [
      "Cryptocurrency with the Highest All-Time High Price\n"
     ]
    },
    {
     "data": {
      "text/plain": [
       "Name                             Bitcoin\n",
       "Symbol                               btc\n",
       "Current Price (USD)              66064.0\n",
       "Market Cap (USD)           1305286805276\n",
       "24-hour Volume (USD)         30226750920\n",
       "Price Change (24h, USD)           738.72\n",
       "Price Change (24h, %)            1.13083\n",
       "Circulating Supply            19759896.0\n",
       "All-Time High (USD)              73738.0\n",
       "ATH Change %                   -10.38502\n",
       "All-Time Low (USD)                 67.81\n",
       "ATL Change %                 97350.54593\n",
       "Name: 0, dtype: object"
      ]
     },
     "execution_count": 10,
     "metadata": {},
     "output_type": "execute_result"
    }
   ],
   "source": [
    "print(\"Cryptocurrency with the Highest All-Time High Price\")\n",
    "df.loc[df['All-Time High (USD)'].idxmax()]"
   ]
  },
  {
   "cell_type": "code",
   "execution_count": 11,
   "id": "97691461-1851-4e16-959e-668d17f4f35e",
   "metadata": {},
   "outputs": [
    {
     "name": "stdout",
     "output_type": "stream",
     "text": [
      "Top 5 Cryptocurrencies by 24-Hour Trading Volume\n"
     ]
    },
    {
     "data": {
      "text/html": [
       "<div>\n",
       "<style scoped>\n",
       "    .dataframe tbody tr th:only-of-type {\n",
       "        vertical-align: middle;\n",
       "    }\n",
       "\n",
       "    .dataframe tbody tr th {\n",
       "        vertical-align: top;\n",
       "    }\n",
       "\n",
       "    .dataframe thead th {\n",
       "        text-align: right;\n",
       "    }\n",
       "</style>\n",
       "<table border=\"1\" class=\"dataframe\">\n",
       "  <thead>\n",
       "    <tr style=\"text-align: right;\">\n",
       "      <th></th>\n",
       "      <th>Name</th>\n",
       "      <th>24-hour Volume (USD)</th>\n",
       "    </tr>\n",
       "  </thead>\n",
       "  <tbody>\n",
       "    <tr>\n",
       "      <th>2</th>\n",
       "      <td>Tether</td>\n",
       "      <td>53327784229</td>\n",
       "    </tr>\n",
       "    <tr>\n",
       "      <th>0</th>\n",
       "      <td>Bitcoin</td>\n",
       "      <td>30226750920</td>\n",
       "    </tr>\n",
       "    <tr>\n",
       "      <th>1</th>\n",
       "      <td>Ethereum</td>\n",
       "      <td>16124632062</td>\n",
       "    </tr>\n",
       "    <tr>\n",
       "      <th>5</th>\n",
       "      <td>USDC</td>\n",
       "      <td>6263654424</td>\n",
       "    </tr>\n",
       "    <tr>\n",
       "      <th>39</th>\n",
       "      <td>First Digital USD</td>\n",
       "      <td>3964444822</td>\n",
       "    </tr>\n",
       "  </tbody>\n",
       "</table>\n",
       "</div>"
      ],
      "text/plain": [
       "                 Name  24-hour Volume (USD)\n",
       "2              Tether           53327784229\n",
       "0             Bitcoin           30226750920\n",
       "1            Ethereum           16124632062\n",
       "5                USDC            6263654424\n",
       "39  First Digital USD            3964444822"
      ]
     },
     "execution_count": 11,
     "metadata": {},
     "output_type": "execute_result"
    }
   ],
   "source": [
    "print(\"Top 5 Cryptocurrencies by 24-Hour Trading Volume\")\n",
    "df.nlargest(5, '24-hour Volume (USD)')[['Name', '24-hour Volume (USD)']]"
   ]
  },
  {
   "cell_type": "code",
   "execution_count": 12,
   "id": "21e05d04-5e9e-45f5-ad2e-e75ca3767634",
   "metadata": {},
   "outputs": [
    {
     "name": "stdout",
     "output_type": "stream",
     "text": [
      "Cryptocurrency with the Lowest All-Time Low (ATL)\n"
     ]
    },
    {
     "data": {
      "text/plain": [
       "Name                                 Shiba Inu\n",
       "Symbol                                    shib\n",
       "Current Price (USD)                   0.000021\n",
       "Market Cap (USD)                   12370970007\n",
       "24-hour Volume (USD)                2167401417\n",
       "Price Change (24h, USD)               0.000002\n",
       "Price Change (24h, %)                 10.03047\n",
       "Circulating Supply         589258593873615.125\n",
       "All-Time High (USD)                   0.000086\n",
       "ATH Change %                         -75.61621\n",
       "All-Time Low (USD)                         0.0\n",
       "ATL Change %                    37271723.32664\n",
       "Name: 12, dtype: object"
      ]
     },
     "execution_count": 12,
     "metadata": {},
     "output_type": "execute_result"
    }
   ],
   "source": [
    "print(\"Cryptocurrency with the Lowest All-Time Low (ATL)\")\n",
    "df.loc[df['All-Time Low (USD)'].idxmin()]"
   ]
  },
  {
   "cell_type": "code",
   "execution_count": 13,
   "id": "aaf194f5-19bc-4ae0-8349-e8cbf59e1ef6",
   "metadata": {},
   "outputs": [
    {
     "name": "stdout",
     "output_type": "stream",
     "text": [
      "Cryptocurrency with the Largest Circulating Supply\n"
     ]
    },
    {
     "data": {
      "text/plain": [
       "Name                                 Shiba Inu\n",
       "Symbol                                    shib\n",
       "Current Price (USD)                   0.000021\n",
       "Market Cap (USD)                   12370970007\n",
       "24-hour Volume (USD)                2167401417\n",
       "Price Change (24h, USD)               0.000002\n",
       "Price Change (24h, %)                 10.03047\n",
       "Circulating Supply         589258593873615.125\n",
       "All-Time High (USD)                   0.000086\n",
       "ATH Change %                         -75.61621\n",
       "All-Time Low (USD)                         0.0\n",
       "ATL Change %                    37271723.32664\n",
       "Name: 12, dtype: object"
      ]
     },
     "execution_count": 13,
     "metadata": {},
     "output_type": "execute_result"
    }
   ],
   "source": [
    "print(\"Cryptocurrency with the Largest Circulating Supply\")\n",
    "df.loc[df['Circulating Supply'].idxmax()]"
   ]
  },
  {
   "cell_type": "code",
   "execution_count": 14,
   "id": "8874b441-1326-4724-9740-a23e4dcd5226",
   "metadata": {},
   "outputs": [
    {
     "name": "stdout",
     "output_type": "stream",
     "text": [
      "Cryptocurrency with the Smallest Circulating Supply\n"
     ]
    },
    {
     "data": {
      "text/plain": [
       "Name                       Wrapped Bitcoin\n",
       "Symbol                                wbtc\n",
       "Current Price (USD)                65994.0\n",
       "Market Cap (USD)               10098949763\n",
       "24-hour Volume (USD)             141890943\n",
       "Price Change (24h, USD)             861.13\n",
       "Price Change (24h, %)               1.3221\n",
       "Circulating Supply           152886.401696\n",
       "All-Time High (USD)                73505.0\n",
       "ATH Change %                     -10.20245\n",
       "All-Time Low (USD)                 3139.17\n",
       "ATL Change %                    2002.65981\n",
       "Name: 15, dtype: object"
      ]
     },
     "execution_count": 14,
     "metadata": {},
     "output_type": "execute_result"
    }
   ],
   "source": [
    "print(\"Cryptocurrency with the Smallest Circulating Supply\")\n",
    "df.loc[df['Circulating Supply'].idxmin()]"
   ]
  },
  {
   "cell_type": "code",
   "execution_count": 15,
   "id": "a7eb2449-320a-4b35-8546-d6753150ab3f",
   "metadata": {},
   "outputs": [
    {
     "name": "stdout",
     "output_type": "stream",
     "text": [
      "Summary Statistics for Key Metrics\n"
     ]
    },
    {
     "data": {
      "text/html": [
       "<div>\n",
       "<style scoped>\n",
       "    .dataframe tbody tr th:only-of-type {\n",
       "        vertical-align: middle;\n",
       "    }\n",
       "\n",
       "    .dataframe tbody tr th {\n",
       "        vertical-align: top;\n",
       "    }\n",
       "\n",
       "    .dataframe thead th {\n",
       "        text-align: right;\n",
       "    }\n",
       "</style>\n",
       "<table border=\"1\" class=\"dataframe\">\n",
       "  <thead>\n",
       "    <tr style=\"text-align: right;\">\n",
       "      <th></th>\n",
       "      <th>Current Price (USD)</th>\n",
       "      <th>Market Cap (USD)</th>\n",
       "      <th>24-hour Volume (USD)</th>\n",
       "      <th>Price Change (24h, %)</th>\n",
       "      <th>Circulating Supply</th>\n",
       "    </tr>\n",
       "  </thead>\n",
       "  <tbody>\n",
       "    <tr>\n",
       "      <th>count</th>\n",
       "      <td>50.000000</td>\n",
       "      <td>5.000000e+01</td>\n",
       "      <td>5.000000e+01</td>\n",
       "      <td>50.000000</td>\n",
       "      <td>5.000000e+01</td>\n",
       "    </tr>\n",
       "    <tr>\n",
       "      <th>mean</th>\n",
       "      <td>2968.774801</td>\n",
       "      <td>4.510969e+10</td>\n",
       "      <td>2.617294e+09</td>\n",
       "      <td>1.910211</td>\n",
       "      <td>2.021182e+13</td>\n",
       "    </tr>\n",
       "    <tr>\n",
       "      <th>std</th>\n",
       "      <td>13030.440972</td>\n",
       "      <td>1.884671e+11</td>\n",
       "      <td>8.762253e+09</td>\n",
       "      <td>3.306767</td>\n",
       "      <td>1.013964e+14</td>\n",
       "    </tr>\n",
       "    <tr>\n",
       "      <th>min</th>\n",
       "      <td>0.000011</td>\n",
       "      <td>2.330273e+09</td>\n",
       "      <td>7.996770e+05</td>\n",
       "      <td>-3.178830</td>\n",
       "      <td>1.528864e+05</td>\n",
       "    </tr>\n",
       "    <tr>\n",
       "      <th>25%</th>\n",
       "      <td>0.999398</td>\n",
       "      <td>2.962615e+09</td>\n",
       "      <td>9.304671e+07</td>\n",
       "      <td>0.036382</td>\n",
       "      <td>1.033865e+08</td>\n",
       "    </tr>\n",
       "    <tr>\n",
       "      <th>50%</th>\n",
       "      <td>5.685000</td>\n",
       "      <td>5.076548e+09</td>\n",
       "      <td>2.382876e+08</td>\n",
       "      <td>1.124605</td>\n",
       "      <td>1.016270e+09</td>\n",
       "    </tr>\n",
       "    <tr>\n",
       "      <th>75%</th>\n",
       "      <td>136.780000</td>\n",
       "      <td>1.234347e+10</td>\n",
       "      <td>4.736831e+08</td>\n",
       "      <td>2.635985</td>\n",
       "      <td>6.902084e+09</td>\n",
       "    </tr>\n",
       "    <tr>\n",
       "      <th>max</th>\n",
       "      <td>66064.000000</td>\n",
       "      <td>1.305287e+12</td>\n",
       "      <td>5.332778e+10</td>\n",
       "      <td>17.698050</td>\n",
       "      <td>5.892586e+14</td>\n",
       "    </tr>\n",
       "  </tbody>\n",
       "</table>\n",
       "</div>"
      ],
      "text/plain": [
       "       Current Price (USD)  Market Cap (USD)  24-hour Volume (USD)  \\\n",
       "count            50.000000      5.000000e+01          5.000000e+01   \n",
       "mean           2968.774801      4.510969e+10          2.617294e+09   \n",
       "std           13030.440972      1.884671e+11          8.762253e+09   \n",
       "min               0.000011      2.330273e+09          7.996770e+05   \n",
       "25%               0.999398      2.962615e+09          9.304671e+07   \n",
       "50%               5.685000      5.076548e+09          2.382876e+08   \n",
       "75%             136.780000      1.234347e+10          4.736831e+08   \n",
       "max           66064.000000      1.305287e+12          5.332778e+10   \n",
       "\n",
       "       Price Change (24h, %)  Circulating Supply  \n",
       "count              50.000000        5.000000e+01  \n",
       "mean                1.910211        2.021182e+13  \n",
       "std                 3.306767        1.013964e+14  \n",
       "min                -3.178830        1.528864e+05  \n",
       "25%                 0.036382        1.033865e+08  \n",
       "50%                 1.124605        1.016270e+09  \n",
       "75%                 2.635985        6.902084e+09  \n",
       "max                17.698050        5.892586e+14  "
      ]
     },
     "execution_count": 15,
     "metadata": {},
     "output_type": "execute_result"
    }
   ],
   "source": [
    "print(\"Summary Statistics for Key Metrics\")\n",
    "df[['Current Price (USD)', 'Market Cap (USD)', '24-hour Volume (USD)', 'Price Change (24h, %)', 'Circulating Supply']].describe()"
   ]
  },
  {
   "cell_type": "code",
   "execution_count": 16,
   "id": "142c2dd2-992b-46b4-96c4-c64f237e8a6a",
   "metadata": {},
   "outputs": [
    {
     "data": {
      "image/png": "[encoded data removed]",
      "text/plain": [
       "<Figure size 640x480 with 1 Axes>"
      ]
     },
     "metadata": {},
     "output_type": "display_data"
    }
   ],
   "source": [
    "\n",
    "\n",
    "import matplotlib.pyplot as plt\n",
    "import seaborn as sns\n",
    "\n",
    "# Bar plot for top 5 cryptocurrencies by market cap\n",
    "sns.barplot(x='Name', y='Market Cap (USD)', data=top_5_market_cap)\n",
    "plt.title('Top 5 Cryptocurrencies by Market Cap')\n",
    "plt.xticks(rotation=45)\n",
    "plt.show()"
   ]
  },
  {
   "cell_type": "code",
   "execution_count": 17,
   "id": "996c113e-d954-4405-a999-933fea79f2af",
   "metadata": {},
   "outputs": [
    {
     "data": {
      "image/png": "[encoded data removed]",
      "text/plain": [
       "<Figure size 1000x600 with 1 Axes>"
      ]
     },
     "metadata": {},
     "output_type": "display_data"
    }
   ],
   "source": [
    "# Distribution of 24-hour percentage price change\n",
    "plt.figure(figsize=(10,6))\n",
    "sns.histplot(df['Price Change (24h, %)'], bins=30, kde=True)\n",
    "plt.title('Distribution of 24-Hour Percentage Price Change')\n",
    "plt.xlabel('Percentage Change')\n",
    "plt.ylabel('Frequency')\n",
    "plt.show()"
   ]
  },
  {
   "cell_type": "code",
   "execution_count": null,
   "id": "07d49580-ef4b-4b7b-8bfa-8e727329e32e",
   "metadata": {},
   "outputs": [],
   "source": []
  }
 ],
 "metadata": {
  "kernelspec": {
   "display_name": "Python 3 (ipykernel)",
   "language": "python",
   "name": "python3"
  },
  "language_info": {
   "codemirror_mode": {
    "name": "ipython",
    "version": 3
   },
   "file_extension": ".py",
   "mimetype": "text/x-python",
   "name": "python",
   "nbconvert_exporter": "python",
   "pygments_lexer": "ipython3",
   "version": "3.10.12"
  }
 },
 "nbformat": 4,
 "nbformat_minor": 5
}
